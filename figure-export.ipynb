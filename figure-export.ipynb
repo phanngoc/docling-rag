{
 "cells": [
  {
   "cell_type": "code",
   "execution_count": 2,
   "id": "960df33a",
   "metadata": {},
   "outputs": [],
   "source": [
    "import logging\n",
    "import time\n",
    "from pathlib import Path"
   ]
  },
  {
   "cell_type": "code",
   "execution_count": 3,
   "id": "224752dc",
   "metadata": {},
   "outputs": [
    {
     "name": "stderr",
     "output_type": "stream",
     "text": [
      "/home/phan.ngoc@sun-asterisk.com/Documents/projects/doc-convert/.venv/lib/python3.12/site-packages/tqdm/auto.py:21: TqdmWarning: IProgress not found. Please update jupyter and ipywidgets. See https://ipywidgets.readthedocs.io/en/stable/user_install.html\n",
      "  from .autonotebook import tqdm as notebook_tqdm\n"
     ]
    }
   ],
   "source": [
    "from docling_core.types.doc import ImageRefMode, PictureItem, TableItem\n",
    "from docling.datamodel.base_models import InputFormat\n",
    "from docling.datamodel.pipeline_options import PdfPipelineOptions\n",
    "from docling.document_converter import DocumentConverter, PdfFormatOption"
   ]
  },
  {
   "cell_type": "code",
   "execution_count": 4,
   "id": "04ba68ad",
   "metadata": {},
   "outputs": [],
   "source": [
    "_log = logging.getLogger(__name__)"
   ]
  },
  {
   "cell_type": "code",
   "execution_count": null,
   "id": "a595122f",
   "metadata": {},
   "outputs": [
    {
     "name": "stdout",
     "output_type": "stream",
     "text": [
      "--2025-05-07 13:34:52--  https://arxiv.org/pdf/1507.05717\n",
      "Resolving arxiv.org (arxiv.org)... 151.101.67.42, 151.101.131.42, 151.101.3.42, ...\n",
      "Connecting to arxiv.org (arxiv.org)|151.101.67.42|:443... connected.\n",
      "HTTP request sent, awaiting response... 200 OK\n",
      "Length: 1057798 (1,0M) [application/pdf]\n",
      "Saving to: ‘1507.05717’\n",
      "\n",
      "1507.05717          100%[===================>]   1,01M  3,74MB/s    in 0,3s    \n",
      "\n",
      "2025-05-07 13:34:53 (3,74 MB/s) - ‘1507.05717’ saved [1057798/1057798]\n",
      "\n"
     ]
    }
   ],
   "source": [
    "!wget https://arxiv.org/pdf/1507.05717 -O /input/1507.05717.pdf"
   ]
  },
  {
   "cell_type": "code",
   "execution_count": 7,
   "id": "b38acea7",
   "metadata": {},
   "outputs": [
    {
     "name": "stderr",
     "output_type": "stream",
     "text": [
      "INFO:docling.document_converter:Going to convert document batch...\n",
      "INFO:docling.document_converter:Initializing pipeline for StandardPdfPipeline with options hash da04cf770b09a45fa6de4d8ea900b7bf\n",
      "INFO:docling.models.factories.base_factory:Loading plugin 'docling_defaults'\n",
      "INFO:docling.models.factories:Registered ocr engines: ['easyocr', 'ocrmac', 'rapidocr', 'tesserocr', 'tesseract']\n",
      "INFO:docling.utils.accelerator_utils:Accelerator device: 'cpu'\n",
      "INFO:docling.utils.accelerator_utils:Accelerator device: 'cpu'\n",
      "INFO:docling.utils.accelerator_utils:Accelerator device: 'cpu'\n",
      "INFO:docling.models.factories.base_factory:Loading plugin 'docling_defaults'\n",
      "INFO:docling.models.factories:Registered picture descriptions: ['vlm', 'api']\n",
      "INFO:docling.pipeline.base_pipeline:Processing document 1507.05717.pdf\n",
      "/home/phan.ngoc@sun-asterisk.com/Documents/projects/doc-convert/.venv/lib/python3.12/site-packages/torch/utils/data/dataloader.py:665: UserWarning: 'pin_memory' argument is set as true but no accelerator is found, then device pinned memory won't be used.\n",
      "  warnings.warn(warn_msg)\n",
      "INFO:docling.document_converter:Finished converting document 1507.05717.pdf in 39.52 sec.\n",
      "WARNING:docling_core.transforms.serializer.html:Could not parse formula with MathML\n",
      "WARNING:docling_core.transforms.serializer.html:Could not parse formula with MathML\n",
      "WARNING:docling_core.transforms.serializer.html:Could not parse formula with MathML\n"
     ]
    },
    {
     "name": "stdout",
     "output_type": "stream",
     "text": [
      "Document converted and figures exported in 41.16 seconds.\n"
     ]
    }
   ],
   "source": [
    "IMAGE_RESOLUTION_SCALE = 2.0\n",
    "\n",
    "\n",
    "logging.basicConfig(level=logging.INFO)\n",
    "\n",
    "input_doc_path = Path(\"./input/1507.05717.pdf\")\n",
    "output_dir = Path(\"./output\")\n",
    "\n",
    "# Important: For operating with page images, we must keep them, otherwise the DocumentConverter\n",
    "# will destroy them for cleaning up memory.\n",
    "# This is done by setting PdfPipelineOptions.images_scale, which also defines the scale of images.\n",
    "# scale=1 correspond of a standard 72 DPI image\n",
    "# The PdfPipelineOptions.generate_* are the selectors for the document elements which will be enriched\n",
    "# with the image field\n",
    "pipeline_options = PdfPipelineOptions()\n",
    "pipeline_options.images_scale = IMAGE_RESOLUTION_SCALE\n",
    "pipeline_options.generate_page_images = True\n",
    "pipeline_options.generate_picture_images = True\n",
    "\n",
    "doc_converter = DocumentConverter(\n",
    "    format_options={\n",
    "        InputFormat.PDF: PdfFormatOption(pipeline_options=pipeline_options)\n",
    "    }\n",
    ")\n",
    "\n",
    "start_time = time.time()\n",
    "\n",
    "conv_res = doc_converter.convert(input_doc_path)\n",
    "\n",
    "output_dir.mkdir(parents=True, exist_ok=True)\n",
    "doc_filename = conv_res.input.file.stem\n",
    "\n",
    "# Save page images\n",
    "for page_no, page in conv_res.document.pages.items():\n",
    "    page_no = page.page_no\n",
    "    page_image_filename = output_dir / f\"{doc_filename}-{page_no}.png\"\n",
    "    with page_image_filename.open(\"wb\") as fp:\n",
    "        page.image.pil_image.save(fp, format=\"PNG\")\n",
    "\n",
    "# Save images of figures and tables\n",
    "table_counter = 0\n",
    "picture_counter = 0\n",
    "for element, _level in conv_res.document.iterate_items():\n",
    "    if isinstance(element, TableItem):\n",
    "        table_counter += 1\n",
    "        element_image_filename = (\n",
    "            output_dir / f\"{doc_filename}-table-{table_counter}.png\"\n",
    "        )\n",
    "        with element_image_filename.open(\"wb\") as fp:\n",
    "            element.get_image(conv_res.document).save(fp, \"PNG\")\n",
    "\n",
    "    if isinstance(element, PictureItem):\n",
    "        picture_counter += 1\n",
    "        element_image_filename = (\n",
    "            output_dir / f\"{doc_filename}-picture-{picture_counter}.png\"\n",
    "        )\n",
    "        with element_image_filename.open(\"wb\") as fp:\n",
    "            element.get_image(conv_res.document).save(fp, \"PNG\")\n",
    "\n",
    "# Save markdown with embedded pictures\n",
    "md_filename = output_dir / f\"{doc_filename}-with-images.md\"\n",
    "conv_res.document.save_as_markdown(md_filename, image_mode=ImageRefMode.EMBEDDED)\n",
    "\n",
    "# Save markdown with externally referenced pictures\n",
    "md_filename = output_dir / f\"{doc_filename}-with-image-refs.md\"\n",
    "conv_res.document.save_as_markdown(md_filename, image_mode=ImageRefMode.REFERENCED)\n",
    "\n",
    "# Save HTML with externally referenced pictures\n",
    "html_filename = output_dir / f\"{doc_filename}-with-image-refs.html\"\n",
    "conv_res.document.save_as_html(html_filename, image_mode=ImageRefMode.REFERENCED)\n",
    "\n",
    "end_time = time.time() - start_time\n",
    "\n",
    "print(f\"Document converted and figures exported in {end_time:.2f} seconds.\")"
   ]
  }
 ],
 "metadata": {
  "kernelspec": {
   "display_name": ".venv",
   "language": "python",
   "name": "python3"
  },
  "language_info": {
   "codemirror_mode": {
    "name": "ipython",
    "version": 3
   },
   "file_extension": ".py",
   "mimetype": "text/x-python",
   "name": "python",
   "nbconvert_exporter": "python",
   "pygments_lexer": "ipython3",
   "version": "3.12.4"
  }
 },
 "nbformat": 4,
 "nbformat_minor": 5
}
